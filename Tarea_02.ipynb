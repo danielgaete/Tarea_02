{
  "nbformat": 4,
  "nbformat_minor": 0,
  "metadata": {
    "colab": {
      "provenance": []
    },
    "kernelspec": {
      "name": "python3",
      "display_name": "Python 3"
    },
    "language_info": {
      "name": "python"
    }
  },
  "cells": [
    {
      "cell_type": "code",
      "execution_count": 7,
      "metadata": {
        "colab": {
          "base_uri": "https://localhost:8080/"
        },
        "id": "nVEKu3MdMD5b",
        "outputId": "ac62e347-4c3a-41fc-9568-0873fe3962e0"
      },
      "outputs": [
        {
          "output_type": "stream",
          "name": "stdout",
          "text": [
            "1\n",
            "2\n",
            "3\n",
            "4\n",
            "5\n",
            "6\n",
            "7\n",
            "8\n",
            "9\n",
            "10\n",
            "11\n",
            "12\n",
            "13\n",
            "14\n",
            "15\n",
            "16\n",
            "17\n",
            "18\n",
            "19\n",
            "20\n",
            "21\n",
            "22\n",
            "23\n",
            "24\n",
            "25\n",
            "26\n",
            "27\n",
            "28\n",
            "29\n",
            "30\n",
            "31\n",
            "32\n",
            "33\n",
            "34\n",
            "35\n",
            "36\n",
            "37\n",
            "38\n",
            "39\n",
            "40\n",
            "41\n",
            "42\n",
            "43\n",
            "44\n",
            "45\n",
            "46\n",
            "47\n",
            "48\n",
            "49\n",
            "50\n",
            "51\n",
            "52\n",
            "53\n",
            "54\n",
            "55\n",
            "56\n",
            "57\n",
            "58\n",
            "59\n",
            "60\n",
            "61\n",
            "62\n",
            "63\n",
            "64\n",
            "65\n",
            "66\n",
            "67\n",
            "68\n",
            "69\n",
            "70\n",
            "71\n",
            "72\n",
            "73\n",
            "74\n",
            "75\n",
            "76\n",
            "77\n",
            "78\n",
            "79\n",
            "80\n",
            "81\n",
            "82\n",
            "83\n",
            "84\n",
            "85\n",
            "86\n",
            "87\n",
            "88\n",
            "89\n",
            "90\n",
            "91\n",
            "92\n",
            "93\n",
            "94\n",
            "95\n",
            "96\n",
            "97\n",
            "98\n",
            "99\n",
            "100\n"
          ]
        }
      ],
      "source": [
        "# programa que imprima los números del 1 al 100.\n",
        "for i in range(1, 101):\n",
        "    print(i)\n",
        "# El programa utiliza un bucle for para imprimir los números del 1 al 100. La función range(1, 101) genera esa secuencia, y print(i) imprime cada número en cada iteración del bucle."
      ]
    },
    {
      "cell_type": "code",
      "source": [
        "# programa que imprima los números del 1 al 100 que sean divisibles entre 3 (con resto 0)\n",
        "for i in range(1, 101):\n",
        "    if i % 3 == 0:\n",
        "        print(i)\n",
        "# El bucle for recorre los números del 1 al 100 y usa if i % 3 == 0 para comprobar si un número es divisible entre 3. Solo se imprimen aquellos números cuyo resto al dividir entre 3 es cero."
      ],
      "metadata": {
        "colab": {
          "base_uri": "https://localhost:8080/"
        },
        "id": "OZR44AXlMUSh",
        "outputId": "27a20495-ecbc-4921-8fd3-fda828b7864e"
      },
      "execution_count": null,
      "outputs": [
        {
          "output_type": "stream",
          "name": "stdout",
          "text": [
            "3\n",
            "6\n",
            "9\n",
            "12\n",
            "15\n",
            "18\n",
            "21\n",
            "24\n",
            "27\n",
            "30\n",
            "33\n",
            "36\n",
            "39\n",
            "42\n",
            "45\n",
            "48\n",
            "51\n",
            "54\n",
            "57\n",
            "60\n",
            "63\n",
            "66\n",
            "69\n",
            "72\n",
            "75\n",
            "78\n",
            "81\n",
            "84\n",
            "87\n",
            "90\n",
            "93\n",
            "96\n",
            "99\n"
          ]
        }
      ]
    },
    {
      "cell_type": "code",
      "source": [
        "# Pseudocódigo, Sumador y comparador de dos números\n",
        "# Solicitar dos números al usuario\n",
        "numero1 = int(input(\"Ingresa el primer número: \"))\n",
        "numero2 = int(input(\"Ingresa el segundo número: \"))\n",
        "\n",
        "# Sumar los números\n",
        "suma = numero1 + numero2\n",
        "\n",
        "# Condicionales para evaluar la suma\n",
        "if suma < 100:\n",
        "    print(\"El resultado es menor a 100\")\n",
        "elif 100 < suma < 150:\n",
        "    print(\"El resultado es mayor a 100 y menor a 150\")\n",
        "else:\n",
        "    print(\"El resultado es mayor a 150\")\n",
        "# e piden dos números, se suman, y el programa usa condicionales if-elif-else para evaluar si la suma es menor de 100, entre 100 y 150, o mayor de 150. Dependiendo del resultado, imprime un mensaje específico."
      ],
      "metadata": {
        "colab": {
          "base_uri": "https://localhost:8080/"
        },
        "id": "_3lLKlveMqOV",
        "outputId": "9bf39b2c-222f-4fb9-b2ee-20b93dd69e4b"
      },
      "execution_count": null,
      "outputs": [
        {
          "output_type": "stream",
          "name": "stdout",
          "text": [
            "Ingresa el primer número: 5\n",
            "Ingresa el segundo número: 145\n",
            "El resultado es mayor a 150\n"
          ]
        }
      ]
    },
    {
      "cell_type": "code",
      "source": [
        "# Solicitar datos al usuario\n",
        "edad = int(input(\"Ingresa tu edad: \"))\n",
        "gusta_programar = input(\"¿Te gusta programar? (si/no): \").lower()\n",
        "\n",
        "# Evaluar diferentes escenarios\n",
        "if edad > 18 and gusta_programar == \"si\":\n",
        "    promedio = \"Eres mayor de edad y te gusta programar\"\n",
        "elif edad > 18 and gusta_programar == \"no\":\n",
        "    promedio = \"Eres mayor de edad, pero no te gusta programar\"\n",
        "elif edad <= 18 and gusta_programar == \"si\":\n",
        "    promedio = \"Eres menor de edad, pero te gusta programar\"\n",
        "else:\n",
        "    promedio = \"Eres menor de edad y no te gusta programar\"\n",
        "\n",
        "# Imprimir el resultado\n",
        "print(promedio)\n",
        "# El programa solicita la edad y si le gusta programar. Con un if-elif-else, evalúa cuatro casos: mayor o menor de edad, y si le gusta o no programar, y muestra un mensaje personalizado según la respuesta."
      ],
      "metadata": {
        "colab": {
          "base_uri": "https://localhost:8080/"
        },
        "id": "IHY3yI09NRmP",
        "outputId": "75211ace-1cec-4c69-da8b-7b3943783fd1"
      },
      "execution_count": null,
      "outputs": [
        {
          "output_type": "stream",
          "name": "stdout",
          "text": [
            "Ingresa tu edad: 2\n",
            "¿Te gusta programar? (si/no): si\n",
            "Eres menor de edad, pero te gusta programar\n"
          ]
        }
      ]
    }
  ]
}